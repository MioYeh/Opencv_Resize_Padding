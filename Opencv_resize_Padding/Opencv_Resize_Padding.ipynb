{
 "cells": [
  {
   "cell_type": "markdown",
   "metadata": {},
   "source": [
    "## 引入需要用到的套件\n",
    "\n",
    "#### opencv , os , numpy , matplotlib"
   ]
  },
  {
   "cell_type": "code",
   "execution_count": null,
   "metadata": {},
   "outputs": [],
   "source": [
    "import cv2\n",
    "import os\n",
    "import numpy as np\n",
    "import matplotlib.pyplot as plt"
   ]
  },
  {
   "cell_type": "markdown",
   "metadata": {},
   "source": [
    "## 利用 Opencv 讀取照片"
   ]
  },
  {
   "cell_type": "code",
   "execution_count": null,
   "metadata": {},
   "outputs": [],
   "source": [
    "path = 'test5.jpg'                  ## parh為一個變數，在此將圖片路徑設定至此\n",
    "                                         ## 如：'/home/user/image.jpg'，相對路徑與絕對路徑皆可\n",
    "    \n",
    "img = cv2.imread(path)        ## 有了圖片路徑後，在此要將他讀進來，會利用opencv 的 imread 來進行讀取"
   ]
  },
  {
   "cell_type": "code",
   "execution_count": null,
   "metadata": {},
   "outputs": [],
   "source": [
    "print(img.shape)                   ## 利用 .shape 的功能，來知道圖片的高度與寬度，及第三個是維度(channel)\n",
    "print('高度：' , img.shape[0])\n",
    "print('寬度：' , img.shape[1])\n",
    "print('維度：' , img.shape[2])  ## 維度=3 代表此圖是RGB 彩色圖片，= 1 的時候為灰階圖片 "
   ]
  },
  {
   "cell_type": "markdown",
   "metadata": {},
   "source": [
    "## 在 Jupyter Notebook 上顯示圖片\n",
    "#### 在此使用 matplotlib 此套件"
   ]
  },
  {
   "cell_type": "code",
   "execution_count": null,
   "metadata": {},
   "outputs": [],
   "source": [
    "## plt 在上方引入套件時已將它定義為 matplotlib.pyplot 的縮寫，將不用打那麼多字\n",
    "\n",
    "plt.imshow(img)                  ## .imshow 為opencv 顯示圖片 ()括號內放置剛剛設定讀入照片的變數，此為 img "
   ]
  },
  {
   "cell_type": "markdown",
   "metadata": {},
   "source": [
    "## 利用 Opencv Resize 進行圖像縮放"
   ]
  },
  {
   "cell_type": "code",
   "execution_count": null,
   "metadata": {},
   "outputs": [],
   "source": [
    "width = 800           ## 愈縮放成的高度\n",
    "hight = 600            ## 愈縮放成的寬度\n",
    "img_resize = cv2.resize(img, (width, hight), interpolation=cv2.INTER_CUBIC)\n",
    "print(img_resize.shape)\n",
    "plt.imshow(img_resize)"
   ]
  },
  {
   "cell_type": "markdown",
   "metadata": {},
   "source": [
    "## 將圖片縮放完後存檔"
   ]
  },
  {
   "cell_type": "code",
   "execution_count": null,
   "metadata": {},
   "outputs": [],
   "source": [
    "cv2.imwrite('new.jpg', img_resize)                  ## cv2.imwrite('檔案的名稱',要存擋圖片)  顯示True代表成功，或可以寫 try except"
   ]
  },
  {
   "cell_type": "markdown",
   "metadata": {},
   "source": [
    "## 圖片大小 < Resize大小 進行Padding"
   ]
  },
  {
   "cell_type": "code",
   "execution_count": null,
   "metadata": {},
   "outputs": [],
   "source": [
    "p_img = cv2.imread('test3.jpg')                   ## 讀檔案\n",
    "BLACK = [0,0,0]                                       ## 將顏色rgb設程變數\n",
    "re_hight = 600                                         ## 填充後高度\n",
    "re_width = 800                                        ## 填充後寬度\n",
    "print(p_img.shape)                                   ## 查看是否有比要填充的高寬小\n",
    "y = re_hight - img.shape[0]                       ## 算出需要填充之高度 \n",
    "x = re_width - img.shape[1]                       ## 算出需要填充之寬度\n",
    "\n",
    "top , bottom = y//2 , y - (y//2)\n",
    "left , right = x//2 , x - (x//2)\n",
    "\n",
    "constant = cv2.copyMakeBorder( img , top , bottom , left , right , cv2.BORDER_CONSTANT , value=BLACK )\n",
    "print(constant.shape)\n",
    "plt.imshow(constant)"
   ]
  },
  {
   "cell_type": "markdown",
   "metadata": {},
   "source": [
    "## 完整程式"
   ]
  },
  {
   "cell_type": "code",
   "execution_count": null,
   "metadata": {},
   "outputs": [],
   "source": [
    "import cv2\n",
    "import os\n",
    "import matplotlib.pyplot as plt\n",
    "\n",
    "path = '/Users/mio'                                    ## 圖片存放資料夾\n",
    "re_path = path + '/Resize_image'                 ## 處理過圖片存放資料夾\n",
    "re_height = 600                                         ## 填充後高度\n",
    "re_width = 800                                          ## 填充後寬度\n",
    "BLACK = [0,0,0]                                        ## 填充顏色設定RGB\n",
    "\n",
    "\n",
    "if not os.path.isdir(re_path) :\n",
    "    os.mkdir(re_path)\n",
    "\n",
    "piclist = []  \n",
    "file = os.listdir(path)\n",
    "for pic_names in file :\n",
    "    if pic_names.endswith(\".jpg\") or pic_names.endswith(\".png\") or pic_names.endswith(\".JPG\") :\n",
    "        piclist.append( pic_names )\n",
    "\n",
    "def img_resize(re_height , re_width , piclist , path) :\n",
    "    for i in piclist :\n",
    "        img = cv2.imread(path + '/' + i)\n",
    "        if img.shape[0] > re_height and img.shape[1] > re_width : \n",
    "            img_resize = cv2.resize(img, (re_width, re_height), interpolation=cv2.INTER_CUBIC)\n",
    "            try :\n",
    "                cv2.imwrite( re_path + '/new_' + i + ' .jpg' ,  img_resize)\n",
    "                print('complete')\n",
    "            except :\n",
    "                print(path + '/' + i)\n",
    "        else :\n",
    "            y = re_height - img.shape[0]\n",
    "            x = re_width - img.shape[1]\n",
    "            top , bottom = y//2 , y - (y//2)\n",
    "            left , right = x//2 , x - (x//2)\n",
    "            img_padding = cv2.copyMakeBorder( img , top , bottom , left , right , cv2.BORDER_CONSTANT , value=BLACK )\n",
    "            try :\n",
    "                cv2.imwrite(re_path + '/new_' + i + ' .jpg' , img_padding )\n",
    "                print('complete')\n",
    "            except :\n",
    "                print(path + '/' + i)\n",
    "            \n",
    "if __name__ == \"__main__\" :\n",
    "    img_resize(re_height , re_width , piclist , path)\n"
   ]
  },
  {
   "cell_type": "markdown",
   "metadata": {},
   "source": [
    "## 準備標註影像程式\n",
    "\n",
    "https://tzutalin.github.io/labelImg/"
   ]
  }
 ],
 "metadata": {
  "kernelspec": {
   "display_name": "Python 3",
   "language": "python",
   "name": "python3"
  },
  "language_info": {
   "codemirror_mode": {
    "name": "ipython",
    "version": 3
   },
   "file_extension": ".py",
   "mimetype": "text/x-python",
   "name": "python",
   "nbconvert_exporter": "python",
   "pygments_lexer": "ipython3",
   "version": "3.6.5"
  }
 },
 "nbformat": 4,
 "nbformat_minor": 2
}
